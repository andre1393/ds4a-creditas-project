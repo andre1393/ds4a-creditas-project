{
 "cells": [
  {
   "cell_type": "code",
   "execution_count": 1,
   "metadata": {},
   "outputs": [
    {
     "name": "stdout",
     "output_type": "stream",
     "text": [
      "Requirement already satisfied: PyCRS in c:\\users\\andre\\anaconda3\\lib\\site-packages (1.0.2)\n",
      "Requirement already satisfied: shapely in c:\\users\\andre\\anaconda3\\lib\\site-packages (1.7.0)\n"
     ]
    }
   ],
   "source": [
    "import pandas as pd\n",
    "import numpy as np\n",
    "import sys\n",
    "\n",
    "!{sys.executable} -m pip install PyCRS\n",
    "!{sys.executable} -m pip install shapely\n",
    "\n",
    "import pycrs\n",
    "from shapely.geometry import Point"
   ]
  },
  {
   "cell_type": "code",
   "execution_count": 2,
   "metadata": {},
   "outputs": [],
   "source": [
    "registry = pd.read_csv('../data/registry.csv')\n",
    "registry = registry.dropna(subset=['coordinates'])"
   ]
  },
  {
   "cell_type": "code",
   "execution_count": 3,
   "metadata": {},
   "outputs": [],
   "source": [
    "registry['long'] = registry['coordinates'].apply(lambda x: float(x.split(',')[0][1:]))\n",
    "registry['lat'] = registry['coordinates'].apply(lambda x: float(x.split(',')[1][:-1]))"
   ]
  },
  {
   "cell_type": "code",
   "execution_count": 4,
   "metadata": {},
   "outputs": [],
   "source": [
    "registry['coordinates_points'] = pd.Series([Point(long, lat) for lat, long in zip(registry.lat.values, registry.long.values)])"
   ]
  },
  {
   "cell_type": "code",
   "execution_count": 5,
   "metadata": {},
   "outputs": [],
   "source": [
    "registry['state'] = registry['concat'].apply(lambda x: x.split(',')[-1].strip())"
   ]
  },
  {
   "cell_type": "code",
   "execution_count": 9,
   "metadata": {},
   "outputs": [],
   "source": [
    "import time;\n",
    "import os\n",
    "start = time.time()"
   ]
  },
  {
   "cell_type": "code",
   "execution_count": 24,
   "metadata": {},
   "outputs": [],
   "source": [
    "registry = registry.dropna(subset=['coordinates_points'])"
   ]
  },
  {
   "cell_type": "code",
   "execution_count": 26,
   "metadata": {},
   "outputs": [
    {
     "name": "stdout",
     "output_type": "stream",
     "text": [
      "SP: 22179\n",
      "time elapsed for SP per row: 0.38436527204683396 ()\n"
     ]
    },
    {
     "name": "stderr",
     "output_type": "stream",
     "text": [
      "C:\\Users\\andre\\Anaconda3\\lib\\site-packages\\ipykernel_launcher.py:19: SettingWithCopyWarning: \n",
      "A value is trying to be set on a copy of a slice from a DataFrame.\n",
      "Try using .loc[row_indexer,col_indexer] = value instead\n",
      "\n",
      "See the caveats in the documentation: http://pandas.pydata.org/pandas-docs/stable/indexing.html#indexing-view-versus-copy\n"
     ]
    }
   ],
   "source": [
    "import geopandas as gpd\n",
    "from os import listdir\n",
    "import time;\n",
    "import os\n",
    "start = time.time()\n",
    "\n",
    "df = pd.DataFrame()\n",
    "sharp_dir = '../sharp'\n",
    "\n",
    "#using just SP because this step very slow\n",
    "for i in ['SP']:#[i.strip() for i in registry['state'].value_counts(ascending=True).index]:\n",
    "    if os.path.isdir(f'{sharp_dir}/{i.lower()}'):\n",
    "        start = time.time()\n",
    "        temp = registry[registry['state'] == i.upper()]\n",
    "        print(f\"{i}: {len(temp)}\")\n",
    "        \n",
    "        census_sector_gpd = gpd.read_file(f'{sharp_dir}/{i.lower()}/{listdir(f\"{sharp_dir}/{i}\")[2]}')\n",
    "        \n",
    "        a = temp['coordinates_points'].map(\n",
    "            lambda x: census_sector_gpd.loc[census_sector_gpd['geometry'].contains(x), 'CD_GEOCODI'].values\n",
    "        )\n",
    "        b = a.str[0]\n",
    "        temp['census_code'] = b\n",
    "        df = pd.concat([df, temp])\n",
    "        print(f\"time elapsed for {i} per row: {(time.time() - start)/len(b)} ()\")\n",
    "    else:\n",
    "        print(f\"{i} has no IBGE data\")"
   ]
  },
  {
   "cell_type": "code",
   "execution_count": 29,
   "metadata": {},
   "outputs": [],
   "source": [
    "df.to_csv('../data/registry_census.csv', index=False)"
   ]
  }
 ],
 "metadata": {
  "kernelspec": {
   "display_name": "Python 3",
   "language": "python",
   "name": "python3"
  },
  "language_info": {
   "codemirror_mode": {
    "name": "ipython",
    "version": 3
   },
   "file_extension": ".py",
   "mimetype": "text/x-python",
   "name": "python",
   "nbconvert_exporter": "python",
   "pygments_lexer": "ipython3",
   "version": "3.6.7"
  }
 },
 "nbformat": 4,
 "nbformat_minor": 4
}
